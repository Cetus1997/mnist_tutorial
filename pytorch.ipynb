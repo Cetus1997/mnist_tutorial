{
 "cells": [
  {
   "cell_type": "markdown",
   "metadata": {},
   "source": [
    "# Pytorch Tutorial"
   ]
  },
  {
   "cell_type": "markdown",
   "metadata": {},
   "source": [
    "Pytorch is a popular deep learning framework and it's easy to get started."
   ]
  },
  {
   "cell_type": "code",
   "execution_count": 1,
   "metadata": {},
   "outputs": [],
   "source": [
    "import torch\n",
    "import torch.nn as nn\n",
    "import torch.utils.data as data\n",
    "import torchvision\n",
    "import torchvision.transforms as transforms\n",
    "from torch.autograd import Variable\n",
    "from tqdm import tqdm\n",
    "import time\n",
    "\n",
    "BATCH_SIZE = 64\n",
    "NUM_EPOCHS = 10"
   ]
  },
  {
   "cell_type": "markdown",
   "metadata": {},
   "source": [
    "First, we read the mnist data, preprocess them and encapsulate them into dataloader form."
   ]
  },
  {
   "cell_type": "code",
   "execution_count": 2,
   "metadata": {},
   "outputs": [],
   "source": [
    "# preprocessing\n",
    "normalize = transforms.Normalize(mean=[.5], std=[.5])\n",
    "transform = transforms.Compose([transforms.ToTensor(), normalize])\n",
    "\n",
    "# download and load the data\n",
    "train_dataset = torchvision.datasets.MNIST(root='./mnist/', train=True, transform=transform, download=True)\n",
    "test_dataset = torchvision.datasets.MNIST(root='./mnist/', train=False, transform=transform, download=False)\n",
    "\n",
    "# encapsulate them into dataloader form\n",
    "train_loader = data.DataLoader(train_dataset, batch_size=BATCH_SIZE, shuffle=True, drop_last=True)\n",
    "test_loader = data.DataLoader(test_dataset, batch_size=BATCH_SIZE, shuffle=False, drop_last=True)"
   ]
  },
  {
   "cell_type": "markdown",
   "metadata": {},
   "source": [
    "Then, we define the model, object function and optimizer that we use to classify."
   ]
  },
  {
   "cell_type": "code",
   "execution_count": 3,
   "metadata": {},
   "outputs": [],
   "source": [
    "class SimpleNet(nn.Module):\n",
    "# TODO:define model\n",
    "    def __init__(self):\n",
    "        super(SimpleNet, self).__init__()\n",
    "        self.conv1 = torch.nn.Sequential(\n",
    "                     torch.nn.Conv2d(1, 32, 3, 1, 1),\n",
    "                     torch.nn.ReLU(),\n",
    "                     torch.nn.MaxPool2d(2))\n",
    "        self.conv2 = torch.nn.Sequential(\n",
    "                     torch.nn.Conv2d(32, 64, 3, 1, 1),\n",
    "                     torch.nn.ReLU(),\n",
    "                     torch.nn.MaxPool2d(2)\n",
    "                     )\n",
    "        self.conv3 = torch.nn.Sequential(\n",
    "                     torch.nn.Conv2d(64, 64, 3, 1, 1),\n",
    "                     torch.nn.ReLU(),\n",
    "                     torch.nn.MaxPool2d(2)\n",
    "                     )\n",
    "        self.dense = torch.nn.Sequential(\n",
    "                     torch.nn.Linear(64 * 3 * 3, 128),\n",
    "                     torch.nn.ReLU(),\n",
    "                     torch.nn.Linear(128, 10)\n",
    "                     )\n",
    "    def forward(self, x):\n",
    "        conv1_out = self.conv1(x)\n",
    "        conv2_out = self.conv2(conv1_out)\n",
    "        conv3_out = self.conv3(conv2_out)\n",
    "        res = conv3_out.view(conv3_out.size(0), -1)\n",
    "        out = self.dense(res)\n",
    "        return out\n",
    "    \n",
    "model = SimpleNet()\n",
    "\n",
    "# TODO:define loss function and optimiter\n",
    "criterion = nn.CrossEntropyLoss()\n",
    "optimizer = torch.optim.Adam(model.parameters(), lr = 0.001, betas= (0.9, 0.999))"
   ]
  },
  {
   "cell_type": "markdown",
   "metadata": {},
   "source": [
    "Next, we can start to train and evaluate!"
   ]
  },
  {
   "cell_type": "code",
   "execution_count": 6,
   "metadata": {
    "scrolled": true
   },
   "outputs": [
    {
     "name": "stderr",
     "output_type": "stream",
     "text": [
      "\r",
      "  0%|          | 0/937 [00:00<?, ?it/s]"
     ]
    },
    {
     "name": "stdout",
     "output_type": "stream",
     "text": [
      "epoch 1\n"
     ]
    },
    {
     "name": "stderr",
     "output_type": "stream",
     "text": [
      "100%|██████████| 937/937 [01:57<00:00,  8.20it/s]\n",
      "  0%|          | 1/937 [00:00<01:54,  8.18it/s]"
     ]
    },
    {
     "name": "stdout",
     "output_type": "stream",
     "text": [
      "training accuracy is:0.9461,testing accuracy is:0.164350\n",
      "epoch 2\n"
     ]
    },
    {
     "name": "stderr",
     "output_type": "stream",
     "text": [
      "100%|██████████| 937/937 [01:57<00:00,  7.68it/s]\n",
      "  0%|          | 1/937 [00:00<01:56,  8.01it/s]"
     ]
    },
    {
     "name": "stdout",
     "output_type": "stream",
     "text": [
      "training accuracy is:0.9849,testing accuracy is:0.165050\n",
      "epoch 3\n"
     ]
    },
    {
     "name": "stderr",
     "output_type": "stream",
     "text": [
      "100%|██████████| 937/937 [01:59<00:00,  7.88it/s]\n",
      "  0%|          | 1/937 [00:00<02:12,  7.05it/s]"
     ]
    },
    {
     "name": "stdout",
     "output_type": "stream",
     "text": [
      "training accuracy is:0.9891,testing accuracy is:0.164683\n",
      "epoch 4\n"
     ]
    },
    {
     "name": "stderr",
     "output_type": "stream",
     "text": [
      "100%|██████████| 937/937 [01:58<00:00,  8.39it/s]\n",
      "  0%|          | 1/937 [00:00<02:02,  7.62it/s]"
     ]
    },
    {
     "name": "stdout",
     "output_type": "stream",
     "text": [
      "training accuracy is:0.9909,testing accuracy is:0.165150\n",
      "epoch 5\n"
     ]
    },
    {
     "name": "stderr",
     "output_type": "stream",
     "text": [
      "100%|██████████| 937/937 [02:04<00:00,  7.34it/s]\n",
      "  0%|          | 1/937 [00:00<02:16,  6.85it/s]"
     ]
    },
    {
     "name": "stdout",
     "output_type": "stream",
     "text": [
      "training accuracy is:0.9923,testing accuracy is:0.164950\n",
      "epoch 6\n"
     ]
    },
    {
     "name": "stderr",
     "output_type": "stream",
     "text": [
      "100%|██████████| 937/937 [02:11<00:00,  7.07it/s]\n",
      "  0%|          | 1/937 [00:00<02:09,  7.25it/s]"
     ]
    },
    {
     "name": "stdout",
     "output_type": "stream",
     "text": [
      "training accuracy is:0.9933,testing accuracy is:0.165033\n",
      "epoch 7\n"
     ]
    },
    {
     "name": "stderr",
     "output_type": "stream",
     "text": [
      "100%|██████████| 937/937 [02:09<00:00,  7.36it/s]\n",
      "  0%|          | 1/937 [00:00<02:03,  7.58it/s]"
     ]
    },
    {
     "name": "stdout",
     "output_type": "stream",
     "text": [
      "training accuracy is:0.9949,testing accuracy is:0.164817\n",
      "epoch 8\n"
     ]
    },
    {
     "name": "stderr",
     "output_type": "stream",
     "text": [
      "100%|██████████| 937/937 [02:08<00:00,  7.31it/s]\n",
      "  0%|          | 1/937 [00:00<02:03,  7.60it/s]"
     ]
    },
    {
     "name": "stdout",
     "output_type": "stream",
     "text": [
      "training accuracy is:0.9952,testing accuracy is:0.165167\n",
      "epoch 9\n"
     ]
    },
    {
     "name": "stderr",
     "output_type": "stream",
     "text": [
      "100%|██████████| 937/937 [02:07<00:00,  7.61it/s]\n",
      "  0%|          | 1/937 [00:00<02:40,  5.83it/s]"
     ]
    },
    {
     "name": "stdout",
     "output_type": "stream",
     "text": [
      "training accuracy is:0.9956,testing accuracy is:0.165267\n",
      "epoch 10\n"
     ]
    },
    {
     "name": "stderr",
     "output_type": "stream",
     "text": [
      "100%|██████████| 937/937 [02:10<00:00,  7.70it/s]\n"
     ]
    },
    {
     "name": "stdout",
     "output_type": "stream",
     "text": [
      "training accuracy is:0.9964,testing accuracy is:0.165117\n"
     ]
    }
   ],
   "source": [
    "# train and evaluate\n",
    "num=1\n",
    "for epoch in range(NUM_EPOCHS):\n",
    "    print('epoch {}'.format(num))\n",
    "    train_acc=0\n",
    "    num=num+1\n",
    "    for images, labels in tqdm(train_loader):\n",
    "        # TODO:forward + backward + optimize\n",
    "        images=Variable(images)\n",
    "        labels=Variable(labels)\n",
    "        pre = model(images)\n",
    "        loss = criterion(pre, labels)\n",
    "        pred = torch.max(pre, 1)[1]\n",
    "        train_correct = (pred == labels).sum()\n",
    "        train_acc += train_correct.item()\n",
    "        optimizer.zero_grad()\n",
    "        loss.backward()\n",
    "        optimizer.step()\n",
    "    # evaluate\n",
    "    model.eval()\n",
    "    test_acc = 0.\n",
    "    for images, labels in test_loader:\n",
    "        images, labels = Variable(images), Variable(labels)\n",
    "        pre = model(images)\n",
    "        loss = criterion(pre, labels)\n",
    "        pred = torch.max(pre, 1)[1]\n",
    "        test_correct = (pred == labels).sum()\n",
    "        test_acc += test_correct.item()\n",
    "    # TODO:calculate the accuracy using traning and testing dataset\n",
    "    train_accuracy=train_acc/ (len(train_dataset))\n",
    "    test_accuracy=test_acc / (len(train_dataset))    \n",
    "    print(\"training accuracy is:{:.4f},testing accuracy is:{:4f}\".format(train_accuracy,test_accuracy))\n",
    "    \n"
   ]
  },
  {
   "cell_type": "markdown",
   "metadata": {},
   "source": [
    "#### Q5:\n",
    "Please print the training and testing accuracy."
   ]
  }
 ],
 "metadata": {
  "kernelspec": {
   "display_name": "Python 3",
   "language": "python",
   "name": "python3"
  },
  "language_info": {
   "codemirror_mode": {
    "name": "ipython",
    "version": 3
   },
   "file_extension": ".py",
   "mimetype": "text/x-python",
   "name": "python",
   "nbconvert_exporter": "python",
   "pygments_lexer": "ipython3",
   "version": "3.5.2"
  }
 },
 "nbformat": 4,
 "nbformat_minor": 2
}
